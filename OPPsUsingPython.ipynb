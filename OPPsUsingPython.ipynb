{
 "cells": [
  {
   "cell_type": "code",
   "execution_count": 1,
   "id": "ca290626-4c41-4926-b997-c493d64e3dd0",
   "metadata": {},
   "outputs": [
    {
     "name": "stdout",
     "output_type": "stream",
     "text": [
      "17\n"
     ]
    }
   ],
   "source": [
    "print(9+8)"
   ]
  },
  {
   "cell_type": "code",
   "execution_count": 3,
   "id": "80f4d87a-9381-4256-9215-ea8bd448fdf1",
   "metadata": {},
   "outputs": [
    {
     "name": "stdout",
     "output_type": "stream",
     "text": [
      "13\n"
     ]
    }
   ],
   "source": [
    "a = 10\n",
    "b = 3\n",
    "print(a+b)"
   ]
  },
  {
   "cell_type": "markdown",
   "id": "c7aef87d-6cbc-47c9-89c2-85b3414d89e2",
   "metadata": {},
   "source": [
    "### Input"
   ]
  },
  {
   "cell_type": "code",
   "execution_count": 6,
   "id": "3d1ae8bb-6611-42f9-98d6-842467c9cc6c",
   "metadata": {},
   "outputs": [
    {
     "name": "stdin",
     "output_type": "stream",
     "text": [
      "Enter a Name: jajj\n"
     ]
    }
   ],
   "source": [
    "abc=input(\"Enter a Name:\") #all inputs are strings by default"
   ]
  },
  {
   "cell_type": "code",
   "execution_count": 12,
   "id": "5cb9be96-c6cc-4efd-b540-b73f14a2b487",
   "metadata": {},
   "outputs": [
    {
     "name": "stdin",
     "output_type": "stream",
     "text": [
      "Enter 1st Number: 2\n",
      "Enter 2nd Number: 3\n"
     ]
    },
    {
     "name": "stdout",
     "output_type": "stream",
     "text": [
      "the addition is 5\n",
      "the subtraction is -1\n",
      "the multiplication is 6\n"
     ]
    }
   ],
   "source": [
    "num1 = int(input(\"Enter 1st Number:\"))\n",
    "num2 = int(input(\"Enter 2nd Number:\"))\n",
    "print(f\"the addition is {num1 + num2}\")\n",
    "print(f\"the subtraction is {num1 - num2}\")\n",
    "print(f\"the multiplication is {num1 * num2}\")"
   ]
  },
  {
   "cell_type": "code",
   "execution_count": 13,
   "id": "5b5bbd5c-6c87-4fc6-8bc0-d72eb46dbb80",
   "metadata": {},
   "outputs": [
    {
     "name": "stdout",
     "output_type": "stream",
     "text": [
      "81\n"
     ]
    }
   ],
   "source": [
    "print(3**4)"
   ]
  },
  {
   "cell_type": "markdown",
   "id": "57e78c2e-74d1-4ad5-be26-de7c95ffb0d2",
   "metadata": {},
   "source": [
    "### Conditional Statement\n"
   ]
  },
  {
   "cell_type": "code",
   "execution_count": 1,
   "id": "7cfb79fd-e4b1-4b14-a210-12fd77b78261",
   "metadata": {},
   "outputs": [
    {
     "name": "stdout",
     "output_type": "stream",
     "text": [
      "smaller\n",
      "finish\n"
     ]
    }
   ],
   "source": [
    "x = 5\n",
    "if x<10:\n",
    "    print(\"smaller\")\n",
    "if x>20:\n",
    "    print(\"bigger\")\n",
    "\n",
    "print(\"finish\")\n",
    "    "
   ]
  },
  {
   "cell_type": "markdown",
   "id": "2c676805-f552-4778-9926-976806e41b5f",
   "metadata": {},
   "source": [
    "### Comparision Operators\n"
   ]
  },
  {
   "cell_type": "code",
   "execution_count": 3,
   "id": "361e2823-126c-4ed9-a10a-bc09f31e1a12",
   "metadata": {},
   "outputs": [
    {
     "name": "stdout",
     "output_type": "stream",
     "text": [
      "Equals 5\n",
      "Greater than 4\n",
      "Greater then equals to 5\n",
      "Less than 6\n",
      "Not euqals 6\n"
     ]
    }
   ],
   "source": [
    "x = 5\n",
    "if x == 5 :\n",
    "    print(\"Equals 5\")\n",
    "if x > 4 :\n",
    "    print(\"Greater than 4\")\n",
    "if x >= 5 :\n",
    "    print(\"Greater then equals to 5\")\n",
    "if x < 6 :\n",
    "    print(\"Less than 6\")\n",
    "if x!= 6 :\n",
    "    print(\"Not euqals 6\")\n"
   ]
  },
  {
   "cell_type": "markdown",
   "id": "cca4a8fa-ee24-4e4a-b02e-e3794cb24b26",
   "metadata": {},
   "source": [
    "### One way Decisions"
   ]
  },
  {
   "cell_type": "code",
   "execution_count": 4,
   "id": "9d5b5309-0dec-4564-8da0-0137b413927b",
   "metadata": {},
   "outputs": [
    {
     "name": "stdout",
     "output_type": "stream",
     "text": [
      "before 5\n",
      "is 5\n",
      "is still 5\n",
      "third 5\n",
      "afterwards 5\n",
      "before 6\n",
      "afterwards 5\n"
     ]
    }
   ],
   "source": [
    "x = 5\n",
    "print(\"before 5\")\n",
    "if x == 5:\n",
    "    print(\"is 5\")\n",
    "    print(\"is still 5\")\n",
    "    print(\"third 5\")\n",
    "print(\"afterwards 5\")\n",
    "print(\"before 6\")\n",
    "if x == 6:\n",
    "    print(\"is 6\")\n",
    "    print(\"is still 5\")\n",
    "    print(\"third 6\")\n",
    "print(\"afterwards 5\")"
   ]
  },
  {
   "cell_type": "markdown",
   "id": "7512793d-9c19-4c79-8542-78e4dc2c3951",
   "metadata": {},
   "source": [
    "### Two way decisions"
   ]
  },
  {
   "cell_type": "code",
   "execution_count": 8,
   "id": "fe91fd57-a473-447a-9063-10d4c67ed591",
   "metadata": {},
   "outputs": [
    {
     "name": "stdout",
     "output_type": "stream",
     "text": [
      "smallest\n",
      "all done\n"
     ]
    }
   ],
   "source": [
    "x = 2\n",
    "if x > 2 :\n",
    "    print(\"bigger\")\n",
    "else :\n",
    "    print(\"smallest\")\n",
    "print(\"all done\")"
   ]
  },
  {
   "cell_type": "markdown",
   "id": "0be32569-ae97-49a1-9f24-125a10bc4e26",
   "metadata": {},
   "source": [
    "### Try & Except"
   ]
  },
  {
   "cell_type": "code",
   "execution_count": 4,
   "id": "e4ce5c70-8546-43bc-8963-007f6b0beb95",
   "metadata": {},
   "outputs": [
    {
     "ename": "ValueError",
     "evalue": "invalid literal for int() with base 10: 'Hello Bob'",
     "output_type": "error",
     "traceback": [
      "\u001b[31m---------------------------------------------------------------------------\u001b[39m",
      "\u001b[31mValueError\u001b[39m                                Traceback (most recent call last)",
      "\u001b[36mCell\u001b[39m\u001b[36m \u001b[39m\u001b[32mIn[4]\u001b[39m\u001b[32m, line 2\u001b[39m\n\u001b[32m      1\u001b[39m astr = \u001b[33m'\u001b[39m\u001b[33mHello Bob\u001b[39m\u001b[33m'\u001b[39m\n\u001b[32m----> \u001b[39m\u001b[32m2\u001b[39m istr = \u001b[38;5;28;43mint\u001b[39;49m\u001b[43m(\u001b[49m\u001b[43mastr\u001b[49m\u001b[43m)\u001b[49m //error\n\u001b[32m      3\u001b[39m \u001b[38;5;28mprint\u001b[39m(\u001b[33m\"\u001b[39m\u001b[33mfirst\u001b[39m\u001b[33m\"\u001b[39m,istr)\n\u001b[32m      5\u001b[39m astr = \u001b[33m'\u001b[39m\u001b[33m123\u001b[39m\u001b[33m'\u001b[39m\n",
      "\u001b[31mValueError\u001b[39m: invalid literal for int() with base 10: 'Hello Bob'"
     ]
    }
   ],
   "source": [
    "astr = 'Hello Bob'\n",
    "istr = int(astr) //error\n",
    "print(\"first\",istr)\n",
    "\n",
    "astr = '123'\n",
    "istr = int(astr)\n",
    "\n"
   ]
  },
  {
   "cell_type": "code",
   "execution_count": 7,
   "id": "cdd16420-5f83-47a0-8983-d2715a1e37e2",
   "metadata": {},
   "outputs": [
    {
     "name": "stdout",
     "output_type": "stream",
     "text": [
      "cannnot convert\n",
      "-1\n"
     ]
    }
   ],
   "source": [
    "astr = 'Hello Bob'\n",
    "try :\n",
    "    istr = int(astr)\n",
    "except :\n",
    "    print(\"cannnot convert\")\n",
    "    istr = -1\n",
    "\n",
    "print(istr)\n",
    "\n"
   ]
  },
  {
   "cell_type": "code",
   "execution_count": 9,
   "id": "8dccb5aa-c5de-4648-8351-8673ef8f2278",
   "metadata": {},
   "outputs": [
    {
     "name": "stdout",
     "output_type": "stream",
     "text": [
      "123\n"
     ]
    }
   ],
   "source": [
    "astr = '123'\n",
    "try :\n",
    "    istr = int(astr)\n",
    "except :\n",
    "    istr = (\"cannot print\")\n",
    "print(istr)"
   ]
  },
  {
   "cell_type": "code",
   "execution_count": 10,
   "id": "52b649c7-0f01-43fa-b781-6be577aa8bec",
   "metadata": {},
   "outputs": [
    {
     "name": "stdout",
     "output_type": "stream",
     "text": [
      "hello\n",
      "done -1\n"
     ]
    }
   ],
   "source": [
    "astr = 'bob'\n",
    "try :\n",
    "    print(\"hello\")\n",
    "    istr = int(astr)\n",
    "    print(\"there\")\n",
    "except :\n",
    "    istr = -1\n",
    "print(\"done\",istr)"
   ]
  },
  {
   "cell_type": "code",
   "execution_count": 12,
   "id": "0f5e2de1-5b87-467e-a116-e961b4917c22",
   "metadata": {},
   "outputs": [
    {
     "name": "stdin",
     "output_type": "stream",
     "text": [
      "Enter Hours:  10\n",
      "Enter Rate:  10\n"
     ]
    },
    {
     "name": "stdout",
     "output_type": "stream",
     "text": [
      "pay: 100\n"
     ]
    }
   ],
   "source": [
    "hour = input(\"Enter Hours: \")\n",
    "rate = input(\"Enter Rate: \")\n",
    "try :\n",
    "    hour = int(hour)\n",
    "    rate = int(rate)\n",
    "    print(f\"pay: {hour*rate}\")\n",
    "except :\n",
    "    print(\"error, please enter numeric value!\")"
   ]
  },
  {
   "cell_type": "markdown",
   "id": "0ea4363b-8f74-49ce-806d-4245b1934f5d",
   "metadata": {},
   "source": [
    "### Loop and Iteration"
   ]
  },
  {
   "cell_type": "code",
   "execution_count": 14,
   "id": "403a09d0-03c9-4657-8914-b8bae6b98bc4",
   "metadata": {},
   "outputs": [
    {
     "name": "stdout",
     "output_type": "stream",
     "text": [
      "0\n",
      "1\n",
      "2\n",
      "3\n",
      "4\n",
      "5\n",
      "6\n",
      "7\n",
      "8\n",
      "9\n"
     ]
    }
   ],
   "source": [
    "for i in range(10) :\n",
    "    print(i)"
   ]
  },
  {
   "cell_type": "markdown",
   "id": "5b8f5641-09bc-42d6-8fbf-865ec95f4f9f",
   "metadata": {},
   "source": [
    "### Strings"
   ]
  },
  {
   "cell_type": "code",
   "execution_count": 4,
   "id": "4128017e-1506-46cd-902e-89f9539620a3",
   "metadata": {},
   "outputs": [
    {
     "name": "stdout",
     "output_type": "stream",
     "text": [
      "o\n",
      "5\n"
     ]
    }
   ],
   "source": [
    "s = \"hello\"\n",
    "print(s[4])\n",
    "print(len(s))"
   ]
  },
  {
   "cell_type": "code",
   "execution_count": 8,
   "id": "655b3d48-cb8c-43a5-ae9a-c923a30aab19",
   "metadata": {},
   "outputs": [
    {
     "name": "stdout",
     "output_type": "stream",
     "text": [
      "0 b\n",
      "1 a\n",
      "2 n\n",
      "3 a\n",
      "4 n\n",
      "5 a\n"
     ]
    }
   ],
   "source": [
    "fruit = 'banana'\n",
    "index = 0\n",
    "for index in range(len(fruit)) :\n",
    "    letter = fruit[index]\n",
    "    print(index, letter)\n",
    "    index = index + 1"
   ]
  },
  {
   "cell_type": "code",
   "execution_count": 10,
   "id": "3b1bee86-bdfb-4dc6-b5fe-9f3b9c14cced",
   "metadata": {},
   "outputs": [
    {
     "name": "stdout",
     "output_type": "stream",
     "text": [
      "b\n",
      "a\n",
      "n\n",
      "a\n",
      "n\n",
      "a\n"
     ]
    }
   ],
   "source": [
    "for i in fruit :\n",
    "    print(i)"
   ]
  },
  {
   "cell_type": "code",
   "execution_count": 14,
   "id": "6637822a-70a8-4eee-89fe-1b7916236ed4",
   "metadata": {},
   "outputs": [
    {
     "name": "stdout",
     "output_type": "stream",
     "text": [
      "3\n"
     ]
    }
   ],
   "source": [
    "x = \"banana\"\n",
    "j = 0\n",
    "for i in fruit :\n",
    "    if i == \"a\":\n",
    "        j += 1\n",
    "print(j)\n",
    "        "
   ]
  },
  {
   "cell_type": "code",
   "execution_count": 15,
   "id": "f2df8715-c73a-4670-9dab-610bf01fed77",
   "metadata": {},
   "outputs": [
    {
     "data": {
      "text/plain": [
       "3"
      ]
     },
     "execution_count": 15,
     "metadata": {},
     "output_type": "execute_result"
    }
   ],
   "source": [
    "x.count('a')"
   ]
  },
  {
   "cell_type": "code",
   "execution_count": 17,
   "id": "7feef163-ab98-414a-861e-4aebdb7b091c",
   "metadata": {},
   "outputs": [
    {
     "data": {
      "text/plain": [
       "'bana'"
      ]
     },
     "execution_count": 17,
     "metadata": {},
     "output_type": "execute_result"
    }
   ],
   "source": [
    "x[0:4]"
   ]
  },
  {
   "cell_type": "code",
   "execution_count": 20,
   "id": "fc8b88cc-376a-49db-aa6f-e4363653c0cb",
   "metadata": {},
   "outputs": [
    {
     "name": "stdout",
     "output_type": "stream",
     "text": [
      "mont\n",
      "p\n",
      "monty python\n"
     ]
    }
   ],
   "source": [
    "x = \"monty python\"\n",
    "print(x[0:4])\n",
    "print(x[6:7])\n",
    "print(x[:])"
   ]
  },
  {
   "cell_type": "code",
   "execution_count": 21,
   "id": "10f61bf7-428c-4271-95cd-d0c73e6aa934",
   "metadata": {},
   "outputs": [
    {
     "data": {
      "text/plain": [
       "True"
      ]
     },
     "execution_count": 21,
     "metadata": {},
     "output_type": "execute_result"
    }
   ],
   "source": [
    "'n' in x"
   ]
  },
  {
   "cell_type": "code",
   "execution_count": 24,
   "id": "f9e0c8e7-6bfe-46dd-86cc-fe13b11a1bdb",
   "metadata": {},
   "outputs": [
    {
     "name": "stdout",
     "output_type": "stream",
     "text": [
      "krishnav\n",
      "KRISHNAV\n",
      "Krishnav\n"
     ]
    }
   ],
   "source": [
    "x = 'KRISHNAV'\n",
    "z = x.lower()\n",
    "print(z)\n",
    "y = z.upper()\n",
    "print(y)\n",
    "m = y.title()\n",
    "print(m)"
   ]
  },
  {
   "cell_type": "code",
   "execution_count": 26,
   "id": "2d2c9609-d749-4cb8-801d-91e6847a594b",
   "metadata": {},
   "outputs": [
    {
     "name": "stdout",
     "output_type": "stream",
     "text": [
      "Krishnav\n"
     ]
    }
   ],
   "source": [
    "print('krishnav'.title())"
   ]
  },
  {
   "cell_type": "code",
   "execution_count": 29,
   "id": "5b55efbc-1a5b-4e14-be1d-366d22d0a3a4",
   "metadata": {},
   "outputs": [
    {
     "name": "stdout",
     "output_type": "stream",
     "text": [
      "-1\n"
     ]
    }
   ],
   "source": [
    "print(x.find(\"xxx\"))"
   ]
  },
  {
   "cell_type": "code",
   "execution_count": 33,
   "id": "7f297533-3b3d-426b-8282-229865fec2ec",
   "metadata": {},
   "outputs": [
    {
     "name": "stdout",
     "output_type": "stream",
     "text": [
      "hfhg\n",
      "hfhg\n"
     ]
    }
   ],
   "source": [
    "ss = '      hfhg   '\n",
    "print(ss.lstrip())\n",
    "print(ss.strip())"
   ]
  },
  {
   "cell_type": "code",
   "execution_count": 34,
   "id": "df9f7640-0269-44a0-bca6-a798fa2664ea",
   "metadata": {},
   "outputs": [
    {
     "data": {
      "text/plain": [
       "True"
      ]
     },
     "execution_count": 34,
     "metadata": {},
     "output_type": "execute_result"
    }
   ],
   "source": [
    "line = \"hello naman\"\n",
    "line.startswith(\"hello\")"
   ]
  },
  {
   "cell_type": "code",
   "execution_count": 6,
   "id": "07ddfc45-b9fb-46a1-b680-be9731101d3e",
   "metadata": {},
   "outputs": [
    {
     "name": "stdout",
     "output_type": "stream",
     "text": [
      "hello naman\n",
      "hello ashish\n",
      "hello kritartha\n"
     ]
    }
   ],
   "source": [
    "lis = ['naman','ashish']\n",
    "lis.append('kritartha')\n",
    "for i in lis :\n",
    "    print('hello',i)"
   ]
  },
  {
   "cell_type": "code",
   "execution_count": null,
   "id": "f56a4fb0-f394-464f-bc90-675e278f6c6d",
   "metadata": {},
   "outputs": [],
   "source": [
    "dict()"
   ]
  },
  {
   "cell_type": "code",
   "execution_count": 4,
   "id": "2b9e7e84-a765-4116-a0f4-b37fc0ab0789",
   "metadata": {},
   "outputs": [
    {
     "name": "stdout",
     "output_type": "stream",
     "text": [
      "{'money': 12, 'candy': 2, 'tissues': 100, 'name': 'Laman'}\n",
      "{'money': 12, 'candy': 78, 'tissues': 100, 'name': 'Laman'}\n"
     ]
    }
   ],
   "source": [
    "purse = dict()\n",
    "purse['money'] = 12\n",
    "purse['candy'] = 2\n",
    "purse['tissues'] = 100\n",
    "purse['name'] = 'Laman'\n",
    "print(purse)\n",
    "purse['candy'] = 78\n",
    "print(purse)"
   ]
  },
  {
   "cell_type": "code",
   "execution_count": 11,
   "id": "1a7f0cbe-d7e9-4502-a8e0-a79b7ae88e0f",
   "metadata": {},
   "outputs": [
    {
     "name": "stdout",
     "output_type": "stream",
     "text": [
      "{'sea': 1, 'hunger': 1}\n",
      "{'sea': 1, 'hunger': 2}\n"
     ]
    },
    {
     "data": {
      "text/plain": [
       "True"
      ]
     },
     "execution_count": 11,
     "metadata": {},
     "output_type": "execute_result"
    }
   ],
   "source": [
    "ccc = dict()\n",
    "ccc['sea'] = 1\n",
    "ccc['hunger'] = 1\n",
    "print(ccc)\n",
    "ccc['hunger'] = ccc['hunger'] + 1\n",
    "print(ccc)\n",
    "'sea' in ccc"
   ]
  },
  {
   "cell_type": "code",
   "execution_count": 10,
   "id": "299dd298-af32-454c-b8ee-8c113c8aed2f",
   "metadata": {},
   "outputs": [
    {
     "data": {
      "text/plain": [
       "False"
      ]
     },
     "execution_count": 10,
     "metadata": {},
     "output_type": "execute_result"
    }
   ],
   "source": [
    "ddd = dict()\n",
    "'sea' in ddd"
   ]
  },
  {
   "cell_type": "code",
   "execution_count": 15,
   "id": "cca6358f-58b4-40aa-bbbd-58af0e4ee09b",
   "metadata": {},
   "outputs": [
    {
     "name": "stdout",
     "output_type": "stream",
     "text": [
      "{'sea': 2, 'hunger': 2, 'queen': 1}\n"
     ]
    }
   ],
   "source": [
    "count = dict()\n",
    "names = ['sea','hunger','sea','queen','hunger']\n",
    "for name in names :\n",
    "    if name not in count :\n",
    "        count[name] = 1\n",
    "    else :\n",
    "        count[name] = count[name] + 1\n",
    "print(count)"
   ]
  },
  {
   "cell_type": "code",
   "execution_count": 1,
   "id": "daae75e1-9b1e-40b0-8430-601a32f28339",
   "metadata": {},
   "outputs": [
    {
     "name": "stdin",
     "output_type": "stream",
     "text": [
      "enter a line of text: ashish ben ka lora\n"
     ]
    },
    {
     "name": "stdout",
     "output_type": "stream",
     "text": [
      "Words: ['ashish', 'ben', 'ka', 'lora']\n",
      "counting...\n",
      "Counts {'ashish': 1, 'ben': 1, 'ka': 1, 'lora': 1}\n"
     ]
    }
   ],
   "source": [
    "count = dict()\n",
    "line = input(\"enter a line of text:\")\n",
    "words = line.split()\n",
    "print('Words:',words)\n",
    "print('counting...')\n",
    "for word in words :\n",
    "    count[word] = count.get(word,0) + 1\n",
    "print('Counts',count)"
   ]
  },
  {
   "cell_type": "markdown",
   "id": "d70b72ae-d1ca-40a4-a507-8f73404b1cb1",
   "metadata": {},
   "source": [
    "### OOPs"
   ]
  },
  {
   "cell_type": "code",
   "execution_count": 2,
   "id": "d5d6b50e-00ba-41e5-b2db-673a9fce2f81",
   "metadata": {},
   "outputs": [
    {
     "name": "stdout",
     "output_type": "stream",
     "text": [
      "naman\n"
     ]
    }
   ],
   "source": [
    "class naman :\n",
    "    name = 'naman'\n",
    "n1 = naman()\n",
    "print(n1.name)"
   ]
  },
  {
   "cell_type": "code",
   "execution_count": null,
   "id": "b47dea70-88d4-40d6-af5d-85dd13f5e626",
   "metadata": {},
   "outputs": [],
   "source": [
    "class abc :\n",
    "    name = 'ashish'\n",
    "class abc extends def :\n",
    "    naam = 'krishnav'"
   ]
  },
  {
   "cell_type": "markdown",
   "id": "716e20f2-f7e4-4ac4-b3de-2ebd6c45c189",
   "metadata": {},
   "source": [
    "### -----> object initialization "
   ]
  },
  {
   "cell_type": "code",
   "execution_count": 13,
   "id": "0d8c8054-0125-4be6-bb29-111ee4c15cf2",
   "metadata": {},
   "outputs": [
    {
     "name": "stdout",
     "output_type": "stream",
     "text": [
      "student name: ravi age: 20 branch: cse \n",
      "student name: naman age: 40 branch: ece \n"
     ]
    },
    {
     "name": "stdin",
     "output_type": "stream",
     "text": [
      "enter student name: exit\n"
     ]
    }
   ],
   "source": [
    "class Student :\n",
    "    #constructor function\n",
    "    def __init__(self, name, age, branch) :\n",
    "        #object initialization\n",
    "        self.name = name\n",
    "        self.age = age\n",
    "        self.branch = branch\n",
    "\n",
    "    def display(self) :\n",
    "        print(f\"student name: {self.name} age: {self.age} branch: {self.branch} \")\n",
    "\n",
    "#create an object (initialization happens here)\n",
    "s1 = Student(\"ravi\",20,\"cse\")\n",
    "s2 = Student(\"naman\",40,\"ece\")\n",
    "\n",
    "s1.display()\n",
    "s2.display()\n",
    "\n",
    "s3 = Student(a,b,c)\n",
    "\n",
    "\n",
    "while(1) :\n",
    "    a = input(\"enter student name:\")\n",
    "    b = int(input('Enter age: '))\n",
    "    c = input('Enter branch: ')\n",
    "    if(a == \"exit\") :\n",
    "        break\n",
    "    else :\n",
    "        s3(a,b,c)\n",
    "        s3.display()\n"
   ]
  },
  {
   "cell_type": "code",
   "execution_count": 8,
   "id": "efb94145-def7-4a61-8796-5e601994d5e0",
   "metadata": {},
   "outputs": [
    {
     "name": "stdout",
     "output_type": "stream",
     "text": [
      "dhyan is eating\n",
      "dhyan is barking\n"
     ]
    }
   ],
   "source": [
    "#parent class\n",
    "class Animal :\n",
    "    def __init__(self,name) :\n",
    "        self.name = name\n",
    "    def eat(self) :\n",
    "        print(self.name + ' is eating')\n",
    "#child class \n",
    "class dog(Animal) :\n",
    "    def bark(self):\n",
    "        print(self.name + ' is barking')\n",
    "\n",
    "dog1 = dog('dhyan')\n",
    "dog1.eat() #inherieted from animal\n",
    "dog1.bark() #defined in dog"
   ]
  },
  {
   "cell_type": "code",
   "execution_count": 10,
   "id": "e687a24a-64d5-4622-8b6e-5c7f7eae927d",
   "metadata": {},
   "outputs": [
    {
     "name": "stdout",
     "output_type": "stream",
     "text": [
      "dhyandeep is barking\n",
      "naman is a pussy cat\n",
      "kritartha gives milk\n",
      "ashish is a bihari\n"
     ]
    }
   ],
   "source": [
    "#parent class\n",
    "class Animal :\n",
    "    def __init__(self,name) :\n",
    "        self.name = name\n",
    "    def eat(self) :\n",
    "        print(self.name + ' is eating')\n",
    "    def sleep(self) :\n",
    "        print(self.name + \" is sleeping\")\n",
    "#child class \n",
    "class dog(Animal) :\n",
    "    def bark(self):\n",
    "        print(self.name + ' is barking')\n",
    "\n",
    "class cat(Animal) :\n",
    "    def meow(self) :\n",
    "        print(self.name + \" is a pussy cat\")\n",
    "\n",
    "class cow(Animal) :\n",
    "    def mooo(self):\n",
    "        print(self.name + \" gives milk\")\n",
    "\n",
    "class bihari(Animal) :\n",
    "    def pan(self) :\n",
    "        print(self.name + \" is a bihari\")\n",
    "\n",
    "dog1 = dog('dhyandeep')\n",
    "cat1 = cat(\"naman\")\n",
    "cow1 = cow('kritartha')\n",
    "bihari1 = bihari('ashish')\n",
    "\n",
    "dog1.bark()\n",
    "cat1.meow()\n",
    "cow1.mooo()\n",
    "bihari1.pan()"
   ]
  },
  {
   "cell_type": "code",
   "execution_count": 15,
   "id": "2a622b26-d6f9-4ae6-af63-e4118d66e48c",
   "metadata": {},
   "outputs": [
    {
     "name": "stdout",
     "output_type": "stream",
     "text": [
      "bark\n",
      "meow\n",
      "mooo\n"
     ]
    }
   ],
   "source": [
    "class Animal :\n",
    "    def speak(self) :\n",
    "        return \"some sound\"\n",
    "\n",
    "class dog(Animal) :\n",
    "    def speak(self) :\n",
    "        return \"bark\"\n",
    "\n",
    "class cat(Animal) :\n",
    "    def speak(self) :\n",
    "        return \"meow\"\n",
    "\n",
    "class cow(Animal) :\n",
    "    def speak(self) :\n",
    "        return \"mooo\"\n",
    "\n",
    "def animal_sound(animal) :  #funtion that demonstrates polymorphism\n",
    "    print(animal.speak())\n",
    "\n",
    "\n",
    "dog = dog()\n",
    "cat = cat()\n",
    "cow = cow()\n",
    "\n",
    "animal_sound(dog)\n",
    "animal_sound(cat)\n",
    "animal_sound(cow)\n"
   ]
  },
  {
   "cell_type": "markdown",
   "id": "a97ff6a9-f903-4ec4-a662-5011d50a351c",
   "metadata": {},
   "source": [
    "### Function overloading"
   ]
  },
  {
   "cell_type": "code",
   "execution_count": 17,
   "id": "a76c9e31-68d6-46db-bc48-399283d61476",
   "metadata": {},
   "outputs": [
    {
     "name": "stdout",
     "output_type": "stream",
     "text": [
      "10\n",
      "14\n",
      "0\n"
     ]
    }
   ],
   "source": [
    "class mathOperation :\n",
    "    def add(self, a=0, b=0, c=0):\n",
    "        return a+b+c\n",
    "math = mathOperation\n",
    "print(math.add(5,10))\n",
    "print(math.add(5,4,10))\n",
    "print(math.add(5))"
   ]
  },
  {
   "cell_type": "code",
   "execution_count": null,
   "id": "0da76aad-5920-4626-82fc-d7cf958cd7b0",
   "metadata": {},
   "outputs": [],
   "source": []
  }
 ],
 "metadata": {
  "kernelspec": {
   "display_name": "Python 3 (ipykernel)",
   "language": "python",
   "name": "python3"
  },
  "language_info": {
   "codemirror_mode": {
    "name": "ipython",
    "version": 3
   },
   "file_extension": ".py",
   "mimetype": "text/x-python",
   "name": "python",
   "nbconvert_exporter": "python",
   "pygments_lexer": "ipython3",
   "version": "3.13.5"
  }
 },
 "nbformat": 4,
 "nbformat_minor": 5
}
